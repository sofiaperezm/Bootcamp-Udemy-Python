{
 "cells": [
  {
   "cell_type": "code",
   "execution_count": 1,
   "metadata": {},
   "outputs": [],
   "source": [
    "import math\n",
    "import unicodedata as ud\n",
    "import re"
   ]
  },
  {
   "cell_type": "markdown",
   "metadata": {},
   "source": [
    "# Functions and Methods Homework\n",
    "\n",
    "\n",
    "\n"
   ]
  },
  {
   "cell_type": "markdown",
   "metadata": {},
   "source": [
    "**1.** Write a function that computes the volume of a sphere given its radius.\n"
   ]
  },
  {
   "cell_type": "markdown",
   "metadata": {},
   "source": [
    " The volume of a sphere is given as V = 4/3 * π * r 3"
   ]
  },
  {
   "cell_type": "code",
   "execution_count": 2,
   "metadata": {},
   "outputs": [],
   "source": [
    "pi = math.pi\n",
    "\n",
    "def vol_sphere(rad):\n",
    "    v = (4/3) * pi * (rad**3)\n",
    "    return v"
   ]
  },
  {
   "cell_type": "code",
   "execution_count": 3,
   "metadata": {
    "scrolled": true
   },
   "outputs": [
    {
     "data": {
      "text/plain": [
       "33.510321638291124"
      ]
     },
     "execution_count": 3,
     "metadata": {},
     "output_type": "execute_result"
    }
   ],
   "source": [
    "# Testing\n",
    "vol_sphere(2)"
   ]
  },
  {
   "cell_type": "markdown",
   "metadata": {},
   "source": [
    "**2.** Write a function that checks whether a number is in a given range (inclusive of high and low)"
   ]
  },
  {
   "cell_type": "code",
   "execution_count": 4,
   "metadata": {},
   "outputs": [],
   "source": [
    "def ran_check_inf(num,low,high):\n",
    "    if num in range(low,high):\n",
    "        print(\"{} is between {} and {}\".format(num, low, high))\n",
    "    else:\n",
    "        print(\"{} is NOT between {} and {}\".format(num, low, high))"
   ]
  },
  {
   "cell_type": "code",
   "execution_count": 5,
   "metadata": {},
   "outputs": [
    {
     "name": "stdout",
     "output_type": "stream",
     "text": [
      "5 is between 2 and 7\n",
      "20 is NOT between 1 and 10\n"
     ]
    }
   ],
   "source": [
    "# Testing\n",
    "ran_check_inf(5,2,7)\n",
    "ran_check_inf(20,1,10)"
   ]
  },
  {
   "cell_type": "code",
   "execution_count": 6,
   "metadata": {},
   "outputs": [],
   "source": [
    "def ran_check_bool(num,low,high):\n",
    "    return num in range(low,high)\n",
    "        "
   ]
  },
  {
   "cell_type": "code",
   "execution_count": 7,
   "metadata": {
    "scrolled": true
   },
   "outputs": [
    {
     "name": "stdout",
     "output_type": "stream",
     "text": [
      "True\n",
      "False\n"
     ]
    }
   ],
   "source": [
    "# Testing\n",
    "print(ran_check_bool(5,2,7))\n",
    "print(ran_check_bool(20,1,10))"
   ]
  },
  {
   "cell_type": "markdown",
   "metadata": {},
   "source": [
    "**3.** Write a Python function that accepts a string and calculates the number of upper case letters and lower case letters."
   ]
  },
  {
   "cell_type": "markdown",
   "metadata": {},
   "source": [
    "* Sample String : 'Hello Mr. Rogers, how are you this fine Tuesday?'\n",
    "<br/> Expected Output : \n",
    "<br/> No. of Upper case characters : 4\n",
    "<br/> No. of Lower case Characters : 33\n"
   ]
  },
  {
   "cell_type": "code",
   "execution_count": 8,
   "metadata": {},
   "outputs": [],
   "source": [
    "# using lists\n",
    "def up_low(s):\n",
    "    upper = 0\n",
    "    lower = 0\n",
    "    for x in s:\n",
    "        if x.isalpha():\n",
    "            if x.isupper():\n",
    "                upper += 1\n",
    "            else:\n",
    "                lower += 1\n",
    "    print(\"# of Upper case characters: {}\".format(upper))\n",
    "    print(\"# of Lower case characters: {}\".format(lower))"
   ]
  },
  {
   "cell_type": "code",
   "execution_count": 9,
   "metadata": {
    "scrolled": true
   },
   "outputs": [
    {
     "name": "stdout",
     "output_type": "stream",
     "text": [
      "# of Upper case characters: 4\n",
      "# of Lower case characters: 33\n"
     ]
    }
   ],
   "source": [
    "# Testing \n",
    "s = 'Hello Mr. Rogers, how are you this fine Tuesday?'\n",
    "up_low(s)"
   ]
  },
  {
   "cell_type": "code",
   "execution_count": 10,
   "metadata": {},
   "outputs": [],
   "source": [
    "# using dictionaries\n",
    "def up_low_d(s):\n",
    "    letters = {'upper':0, 'lower':0}\n",
    "    for x in s:\n",
    "        if x.isalpha():\n",
    "            if x.isupper():\n",
    "                letters['upper'] += 1\n",
    "            else:\n",
    "                letters['lower'] += 1\n",
    "    print(\"# of Upper case characters: {}\".format(letters['upper']))\n",
    "    print(\"# of Lower case characters: {}\".format(letters['lower']))"
   ]
  },
  {
   "cell_type": "code",
   "execution_count": 11,
   "metadata": {},
   "outputs": [
    {
     "name": "stdout",
     "output_type": "stream",
     "text": [
      "# of Upper case characters: 4\n",
      "# of Lower case characters: 33\n"
     ]
    }
   ],
   "source": [
    "# Testing \n",
    "s = 'Hello Mr. Rogers, how are you this fine Tuesday?'\n",
    "up_low_d(s)\n"
   ]
  },
  {
   "cell_type": "markdown",
   "metadata": {},
   "source": [
    "**4.** Write a Python function that takes a list and returns a new list with unique elements of the first list.\n",
    "\n"
   ]
  },
  {
   "cell_type": "markdown",
   "metadata": {},
   "source": [
    "Sample List : [1,1,1,1,2,2,3,3,3,3,4,5]\n",
    "<br/> Unique List : [1, 2, 3, 4, 5]"
   ]
  },
  {
   "cell_type": "code",
   "execution_count": 12,
   "metadata": {},
   "outputs": [],
   "source": [
    "def unique_list(lst):\n",
    "    return set(lst)\n"
   ]
  },
  {
   "cell_type": "code",
   "execution_count": 13,
   "metadata": {},
   "outputs": [
    {
     "data": {
      "text/plain": [
       "{1, 2, 3, 4, 5}"
      ]
     },
     "execution_count": 13,
     "metadata": {},
     "output_type": "execute_result"
    }
   ],
   "source": [
    "# Testing\n",
    "unique_list([1,1,1,1,2,2,3,3,3,3,4,5])\n"
   ]
  },
  {
   "cell_type": "markdown",
   "metadata": {},
   "source": [
    "**5.** Write a Python function to multiply all the numbers in a list.\n",
    "\n",
    "<br/> Sample List : [1, 2, 3, -4]\n",
    "<br/> Expected Output : -24"
   ]
  },
  {
   "cell_type": "code",
   "execution_count": 23,
   "metadata": {},
   "outputs": [],
   "source": [
    "def multiply(numbers): \n",
    "    result = numbers[0]\n",
    "    for num in numbers:\n",
    "        result *= num\n",
    "    return result"
   ]
  },
  {
   "cell_type": "code",
   "execution_count": 27,
   "metadata": {
    "scrolled": false
   },
   "outputs": [
    {
     "name": "stdout",
     "output_type": "stream",
     "text": [
      "-24\n",
      "4\n"
     ]
    }
   ],
   "source": [
    "# Testing\n",
    "print(multiply([1,2,3,-4]))\n",
    "print(multiply([2]))\n"
   ]
  },
  {
   "cell_type": "markdown",
   "metadata": {},
   "source": [
    "**6.** Write a Python function that checks whether a passed in string is palindrome or not.\n",
    "<br/> **Note:** A palindrome is word, phrase, or sequence that reads the same backward as forward, e.g., madam or nurses run.\n",
    "\n",
    "\n"
   ]
  },
  {
   "cell_type": "code",
   "execution_count": 16,
   "metadata": {},
   "outputs": [],
   "source": [
    "def palindrome(s):\n",
    "    s_nomarks = ud.normalize('NFKD', s).encode('ASCII', 'ignore').decode(\"utf-8\")\n",
    "    re_alpha = re.compile('[^a-zA-Z]')\n",
    "    alpha_only = re_alpha.sub('', s_nomarks)\n",
    "    n = int(len(alpha_only)/2)\n",
    "    is_palindrome = True\n",
    "    i = 0\n",
    "    j = len(alpha_only)-1\n",
    "    while is_palindrome == True and i <= n:\n",
    "        if alpha_only[i].lower() != alpha_only[j].lower():\n",
    "            is_palindrome = False\n",
    "        i += 1\n",
    "        j -= 1\n",
    "    return is_palindrome"
   ]
  },
  {
   "cell_type": "code",
   "execution_count": 17,
   "metadata": {
    "scrolled": true
   },
   "outputs": [
    {
     "name": "stdout",
     "output_type": "stream",
     "text": [
      "True\n",
      "True\n",
      "False\n",
      "False\n"
     ]
    }
   ],
   "source": [
    "# Testing\n",
    "# Should return True\n",
    "print(palindrome('helleh'))\n",
    "print(palindrome('No subas, abusón'))\n",
    "\n",
    "# Should return False\n",
    "print(palindrome('Hola, buenos días'))\n",
    "print(palindrome('Panamá'))"
   ]
  },
  {
   "cell_type": "markdown",
   "metadata": {},
   "source": [
    "**7.** Write a Python function to check whether a string is pangram or not.\n",
    "\n",
    "<br/> **Note :** Pangrams are words or sentences containing every letter of the alphabet at least once.\n",
    "<br/> **For example :** \"The quick brown fox jumps over the lazy dog\"\n",
    "\n"
   ]
  },
  {
   "cell_type": "code",
   "execution_count": 18,
   "metadata": {},
   "outputs": [],
   "source": [
    "import string\n",
    "\n",
    "def ispangram(str1, alphabet=string.ascii_lowercase):\n",
    "    str1_nomarks = ud.normalize('NFKD', str1).encode('ASCII', 'ignore').decode(\"utf-8\")\n",
    "    re_alpha = re.compile('[^a-zA-Z]')\n",
    "    str1_alpha = re_alpha.sub('', str1_nomarks)\n",
    "    str2 = list(set(str1_alpha))\n",
    "    unique_letter = 0\n",
    "    for letter in str2:    \n",
    "        if letter in alphabet:\n",
    "            unique_letter += 1 \n",
    "    if unique_letter == len(alphabet):\n",
    "        return True\n",
    "    return False\n",
    "    "
   ]
  },
  {
   "cell_type": "code",
   "execution_count": 22,
   "metadata": {},
   "outputs": [
    {
     "name": "stdout",
     "output_type": "stream",
     "text": [
      "True\n",
      "True\n",
      "False\n",
      "False\n"
     ]
    }
   ],
   "source": [
    "# Testing\n",
    "\n",
    "# Should return True\n",
    "print(ispangram('The quick brown fox jumps over the lazy dog'))\n",
    "print(ispangram('José compró una vieja zampoña en Perú. Excusándose, Sofía tiró su whisky al desagüe de la banqueta.'))\n",
    "\n",
    "# Should return False\n",
    "print(ispangram('Hola, cómo estás?'))\n",
    "print(ispangram('Kira está aquí'))\n"
   ]
  },
  {
   "cell_type": "code",
   "execution_count": null,
   "metadata": {},
   "outputs": [],
   "source": []
  }
 ],
 "metadata": {
  "kernelspec": {
   "display_name": "Python 3",
   "language": "python",
   "name": "python3"
  },
  "language_info": {
   "codemirror_mode": {
    "name": "ipython",
    "version": 3
   },
   "file_extension": ".py",
   "mimetype": "text/x-python",
   "name": "python",
   "nbconvert_exporter": "python",
   "pygments_lexer": "ipython3",
   "version": "3.7.4"
  }
 },
 "nbformat": 4,
 "nbformat_minor": 2
}
